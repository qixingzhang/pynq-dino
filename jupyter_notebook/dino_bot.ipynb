{
 "cells": [
  {
   "cell_type": "code",
   "execution_count": null,
   "metadata": {},
   "outputs": [],
   "source": [
    "from pynq.overlays.base import BaseOverlay\n",
    "from pynq.lib.arduino.arduino_io import Arduino_IO\n",
    "from pynq.lib.video import *\n",
    "from pynq.lib import Pmod_IO\n",
    "import cv2\n",
    "import time\n",
    "import numpy as np"
   ]
  },
  {
   "cell_type": "code",
   "execution_count": null,
   "metadata": {},
   "outputs": [],
   "source": [
    "base = BaseOverlay(\"base.bit\")"
   ]
  },
  {
   "cell_type": "code",
   "execution_count": null,
   "metadata": {},
   "outputs": [],
   "source": [
    "class DinoAgent:\n",
    "    def __init__(self):\n",
    "        self.space = Arduino_IO(base.ARDUINO, 0, 'out')\n",
    "        self.space.write(0) \n",
    "        frame_out_w = 1920\n",
    "        frame_out_h = 1080\n",
    "        Mode_in = VideoMode(frame_out_w, frame_out_h,24)\n",
    "        Mode_out = VideoMode(frame_out_w, frame_out_h, 24)\n",
    "        self.hdmi_in = base.video.hdmi_in\n",
    "        self.hdmi_in.configure()\n",
    "        print(self.hdmi_in.mode)\n",
    "        self.hdmi_in.start()\n",
    "        print(\"HDMI In Initialized\")\n",
    "\n",
    "        self.hdmi_out = base.video.hdmi_out\n",
    "        self.hdmi_out.configure(Mode_out)\n",
    "        self.hdmi_out.start()\n",
    "        print(self.hdmi_in.mode)\n",
    "        print(self.hdmi_out.mode)\n",
    "        print(\"HDMI Out Initialized\")\n",
    "        \n",
    "        self.hdmi_in.tie(self.hdmi_out)\n",
    "        self.flag=1\n",
    "        print(\"Game start\")\n",
    "        self.jump()\n",
    "        self.flag=0\n",
    "        self.bitwise_mode = 0\n",
    "\n",
    "    def jump(self):\n",
    "        if self.flag == 0:\n",
    "            self.space.write(1)\n",
    "            time.sleep(0.1)\n",
    "        else:\n",
    "            self.space.write(0)\n",
    "            \n",
    "    def video_pipeline(self):\n",
    "        try:\n",
    "            while True:\n",
    "                try:\n",
    "                    inframe = self.hdmi_in.readframe()\n",
    "                    inframe_gray = cv2.cvtColor(inframe, cv2.COLOR_BGR2GRAY)\n",
    "                    ret, thr = cv2.threshold(inframe_gray, 150, 255, cv2.THRESH_BINARY)\n",
    "                    thr = thr[400:500,150:250] # frame location to identify obstacles\n",
    "                    kernel = cv2.getStructuringElement(cv2.MORPH_RECT, (5, 5))\n",
    "                    thr1 = cv2.morphologyEx(thr, cv2.MORPH_CLOSE, kernel)\n",
    "                    self.judge(thr1)\n",
    "                    inframe.freebuffer()\n",
    "                except KeyboardInterrupt:\n",
    "                    self.hdmi_out.close()\n",
    "                    self.hdmi_in.close()\n",
    "                    print('close pipeline')\n",
    "                    raise\n",
    "                except ValueError:\n",
    "                    self.hdmi_out.close()\n",
    "                    self.hdmi_in.close()\n",
    "                    print('val err close pipeline')\n",
    "                    raise\n",
    "        except KeyboardInterrupt:\n",
    "                self.hdmi_out.close()\n",
    "                self.hdmi_in.close()\n",
    "                print('close pipeline')\n",
    "                raise\n",
    "\n",
    "    def judge(self, img_slice):\n",
    "        if((img_slice==255).all()):\n",
    "            self.space.write(0)\n",
    "#             print('not jump')\n",
    "        else:\n",
    "            self.space.write(1)\n",
    "            print('jump')"
   ]
  },
  {
   "cell_type": "code",
   "execution_count": null,
   "metadata": {},
   "outputs": [],
   "source": [
    "dino = DinoAgent()"
   ]
  },
  {
   "cell_type": "code",
   "execution_count": null,
   "metadata": {
    "scrolled": true
   },
   "outputs": [],
   "source": [
    "dino.video_pipeline()"
   ]
  },
  {
   "cell_type": "code",
   "execution_count": null,
   "metadata": {},
   "outputs": [],
   "source": []
  },
  {
   "cell_type": "code",
   "execution_count": null,
   "metadata": {},
   "outputs": [],
   "source": []
  }
 ],
 "metadata": {
  "kernelspec": {
   "display_name": "Python 3",
   "language": "python",
   "name": "python3"
  },
  "language_info": {
   "codemirror_mode": {
    "name": "ipython",
    "version": 3
   },
   "file_extension": ".py",
   "mimetype": "text/x-python",
   "name": "python",
   "nbconvert_exporter": "python",
   "pygments_lexer": "ipython3",
   "version": "3.6.5"
  }
 },
 "nbformat": 4,
 "nbformat_minor": 2
}
